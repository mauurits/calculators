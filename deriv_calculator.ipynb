{
 "cells": [
  {
   "cell_type": "code",
   "execution_count": 28,
   "id": "60da7c03-a977-44e1-a429-92e56be1b6a3",
   "metadata": {},
   "outputs": [
    {
     "name": "stdin",
     "output_type": "stream",
     "text": [
      "Please enter entry price:  56000\n",
      "Please enter invalidation price:  56250\n",
      "Please enter risk assigned (in BTC):  0.025\n"
     ]
    },
    {
     "name": "stdout",
     "output_type": "stream",
     "text": [
      "Entry at: 55968.125\n",
      "Stop at: 56255.625\n",
      "Size: 273784.51\n"
     ]
    }
   ],
   "source": [
    "#Position size calculator - Inverse swap\n",
    "\n",
    "def calculator(): \n",
    "    entry_raw = float(input(\"Please enter entry price: \"))\n",
    "    inv_raw = float(input(\"Please enter invalidation price: \"))\n",
    "    risk_raw = float(input(\"Please enter risk assigned (in numerator): \"))\n",
    "    added_risk = 0.15 # In decimals\n",
    "    allocation_division_long = 0.85 # In decimals\n",
    "    allocation_division_short = 1 - allocation_division_long\n",
    "    x = added_risk\n",
    "    y = allocation_division_long\n",
    "    z = allocation_division_short\n",
    "    if entry_raw > inv_raw:\n",
    "        entry_adj_long = ((entry_raw - inv_raw) * x * y) + entry_raw\n",
    "        print(\"Entry at: \"+str(entry_adj_long))\n",
    "        inv_adj_long = inv_raw - ((entry_raw - inv_raw) * x * z)\n",
    "        print(\"Stop at: \"+str(inv_adj_long))\n",
    "        size_long = risk_raw / ((1/inv_adj_long)-(1/entry_adj_long))\n",
    "        size_long2 = round(size_long, 2)\n",
    "        print(\"Size: \"+str(size_long2))\n",
    "    else:\n",
    "        entry_adj_short = entry_raw - ((inv_raw - entry_raw) * x * y)\n",
    "        print(\"Entry at: \"+str(entry_adj_short))\n",
    "        inv_adj_short = inv_raw + ((inv_raw - entry_raw) * x * z)\n",
    "        print(\"Stop at: \"+str(inv_adj_short))\n",
    "        size_short = risk_raw / ((1/entry_adj_short)-(1/inv_adj_short))\n",
    "        size_short2 = round(size_short, 2)\n",
    "        print(\"Size: \"+str(size_short2))\n",
    "\n",
    "\n",
    "calculator()\n",
    "\n"
   ]
  },
  {
   "cell_type": "code",
   "execution_count": null,
   "id": "9b315ad7-5c4c-41fe-8240-f6382fea4d74",
   "metadata": {},
   "outputs": [],
   "source": []
  }
 ],
 "metadata": {
  "kernelspec": {
   "display_name": "Python 3 (ipykernel)",
   "language": "python",
   "name": "python3"
  },
  "language_info": {
   "codemirror_mode": {
    "name": "ipython",
    "version": 3
   },
   "file_extension": ".py",
   "mimetype": "text/x-python",
   "name": "python",
   "nbconvert_exporter": "python",
   "pygments_lexer": "ipython3",
   "version": "3.11.7"
  }
 },
 "nbformat": 4,
 "nbformat_minor": 5
}
